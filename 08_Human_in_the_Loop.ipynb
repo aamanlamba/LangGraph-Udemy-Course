{
 "cells": [
  {
   "cell_type": "code",
   "execution_count": 1,
   "metadata": {},
   "outputs": [
    {
     "data": {
      "text/plain": [
       "False"
      ]
     },
     "execution_count": 1,
     "metadata": {},
     "output_type": "execute_result"
    }
   ],
   "source": [
    "from dotenv import load_dotenv\n",
    "\n",
    "load_dotenv()"
   ]
  },
  {
   "cell_type": "code",
   "execution_count": 2,
   "metadata": {},
   "outputs": [],
   "source": [
    "from typing import Annotated\n",
    "\n",
    "from typing_extensions import TypedDict\n",
    "\n",
    "from langgraph.graph.message import add_messages\n",
    "\n",
    "\n",
    "class State(TypedDict):\n",
    "    messages: Annotated[list, add_messages]"
   ]
  },
  {
   "cell_type": "code",
   "execution_count": 3,
   "metadata": {},
   "outputs": [],
   "source": [
    "from langchain_openai import ChatOpenAI\n",
    "from langchain_core.tools import tool\n",
    "\n",
    "from langgraph.checkpoint.memory import MemorySaver\n",
    "from langgraph.graph import StateGraph\n",
    "from langgraph.prebuilt import ToolNode, tools_condition\n",
    "\n",
    "checkpointer = MemorySaver()\n",
    "\n",
    "graph_builder = StateGraph(State)\n",
    "\n",
    "\n",
    "@tool\n",
    "def get_weather(location: str):\n",
    "    \"\"\"Call to get the current weather.\"\"\"\n",
    "    if location.lower() in [\"munich\"]:\n",
    "        return \"It's 15 degrees Celsius and cloudy.\"\n",
    "    else:\n",
    "        return \"It's 32 degrees Celsius and sunny.\"\n",
    "\n",
    "\n",
    "@tool\n",
    "def broken_api(location: str):\n",
    "    \"\"\"Call to get the current weather.\"\"\"\n",
    "    return f\"Currently no weather data available for {location}. Please try again later\"\n",
    "\n",
    "\n",
    "tools = [get_weather, broken_api]\n",
    "llm = ChatOpenAI(model=\"gpt-4o-mini\")\n",
    "llm_with_tools = llm.bind_tools(tools)\n",
    "\n",
    "\n",
    "def chatbot(state: State):\n",
    "    return {\"messages\": [llm_with_tools.invoke(state[\"messages\"])]}"
   ]
  },
  {
   "cell_type": "code",
   "execution_count": 4,
   "metadata": {},
   "outputs": [],
   "source": [
    "graph_builder.add_node(\"chatbot\", chatbot)\n",
    "\n",
    "tool_node = ToolNode(tools=tools)\n",
    "graph_builder.add_node(\"tools\", tool_node)\n",
    "\n",
    "graph_builder.add_conditional_edges(\n",
    "    \"chatbot\",\n",
    "    tools_condition,\n",
    ")\n",
    "graph_builder.add_edge(\"tools\", \"chatbot\")\n",
    "graph_builder.set_entry_point(\"chatbot\")\n",
    "graph = graph_builder.compile(\n",
    "    checkpointer=checkpointer,\n",
    "    interrupt_before=[\"tools\"],\n",
    ")"
   ]
  },
  {
   "cell_type": "code",
   "execution_count": 33,
   "metadata": {},
   "outputs": [
    {
     "data": {
      "image/png": "[encoded data removed]",
      "text/plain": [
       "<IPython.core.display.Image object>"
      ]
     },
     "metadata": {},
     "output_type": "display_data"
    }
   ],
   "source": [
    "from IPython.display import Image, display\n",
    "\n",
    "try:\n",
    "    display(Image(graph.get_graph().draw_mermaid_png()))\n",
    "except Exception:\n",
    "    pass"
   ]
  },
  {
   "cell_type": "code",
   "execution_count": 6,
   "metadata": {},
   "outputs": [
    {
     "data": {
      "text/plain": [
       "{'messages': [HumanMessage(content='Hello, I am John', additional_kwargs={}, response_metadata={}, id='0b00df08-e39a-4631-91ca-3c42e9ce6e21'),\n",
       "  AIMessage(content='Hello John! How can I assist you today?', additional_kwargs={'refusal': None}, response_metadata={'token_usage': {'completion_tokens': 12, 'prompt_tokens': 70, 'total_tokens': 82, 'completion_tokens_details': {'accepted_prediction_tokens': 0, 'audio_tokens': 0, 'reasoning_tokens': 0, 'rejected_prediction_tokens': 0}, 'prompt_tokens_details': {'audio_tokens': 0, 'cached_tokens': 0}}, 'model_name': 'gpt-4o-mini-2024-07-18', 'system_fingerprint': 'fp_72ed7ab54c', 'finish_reason': 'stop', 'logprobs': None}, id='run-3945b7a7-5843-41b6-83f4-618ea87e07f5-0', usage_metadata={'input_tokens': 70, 'output_tokens': 12, 'total_tokens': 82, 'input_token_details': {'audio': 0, 'cache_read': 0}, 'output_token_details': {'audio': 0, 'reasoning': 0}})]}"
      ]
     },
     "execution_count": 6,
     "metadata": {},
     "output_type": "execute_result"
    }
   ],
   "source": [
    "from langchain_core.messages import HumanMessage\n",
    "\n",
    "config = {\"configurable\": {\"thread_id\": \"1\"}}\n",
    "input_message = HumanMessage(content=\"Hello, I am John\")\n",
    "\n",
    "graph.invoke({\"messages\": input_message}, config=config)"
   ]
  },
  {
   "cell_type": "code",
   "execution_count": 7,
   "metadata": {},
   "outputs": [
    {
     "data": {
      "text/plain": [
       "{'messages': [HumanMessage(content='Sorry, did I already introduce myself?', additional_kwargs={}, response_metadata={}, id='461eb400-496e-4bff-9430-fc848c6b7e9d'),\n",
       "  AIMessage(content=\"No, you haven't introduced yourself yet! Please feel free to share your name or anything else you'd like me to know about you.\", additional_kwargs={'refusal': None}, response_metadata={'token_usage': {'completion_tokens': 28, 'prompt_tokens': 73, 'total_tokens': 101, 'completion_tokens_details': {'accepted_prediction_tokens': 0, 'audio_tokens': 0, 'reasoning_tokens': 0, 'rejected_prediction_tokens': 0}, 'prompt_tokens_details': {'audio_tokens': 0, 'cached_tokens': 0}}, 'model_name': 'gpt-4o-mini-2024-07-18', 'system_fingerprint': 'fp_72ed7ab54c', 'finish_reason': 'stop', 'logprobs': None}, id='run-55ecd774-5e52-4e1f-a4be-b575f3f7f5da-0', usage_metadata={'input_tokens': 73, 'output_tokens': 28, 'total_tokens': 101, 'input_token_details': {'audio': 0, 'cache_read': 0}, 'output_token_details': {'audio': 0, 'reasoning': 0}})]}"
      ]
     },
     "execution_count": 7,
     "metadata": {},
     "output_type": "execute_result"
    }
   ],
   "source": [
    "config = {\"configurable\": {\"thread_id\": \"2\"}}\n",
    "input_message = HumanMessage(content=\"Sorry, did I already introduce myself?\")\n",
    "\n",
    "graph.invoke({\"messages\": input_message}, config=config)"
   ]
  },
  {
   "cell_type": "code",
   "execution_count": 8,
   "metadata": {},
   "outputs": [
    {
     "data": {
      "text/plain": [
       "{'messages': [HumanMessage(content='Hello, I am John', additional_kwargs={}, response_metadata={}, id='0b00df08-e39a-4631-91ca-3c42e9ce6e21'),\n",
       "  AIMessage(content='Hello John! How can I assist you today?', additional_kwargs={'refusal': None}, response_metadata={'token_usage': {'completion_tokens': 12, 'prompt_tokens': 70, 'total_tokens': 82, 'completion_tokens_details': {'accepted_prediction_tokens': 0, 'audio_tokens': 0, 'reasoning_tokens': 0, 'rejected_prediction_tokens': 0}, 'prompt_tokens_details': {'audio_tokens': 0, 'cached_tokens': 0}}, 'model_name': 'gpt-4o-mini-2024-07-18', 'system_fingerprint': 'fp_72ed7ab54c', 'finish_reason': 'stop', 'logprobs': None}, id='run-3945b7a7-5843-41b6-83f4-618ea87e07f5-0', usage_metadata={'input_tokens': 70, 'output_tokens': 12, 'total_tokens': 82, 'input_token_details': {'audio': 0, 'cache_read': 0}, 'output_token_details': {'audio': 0, 'reasoning': 0}}),\n",
       "  HumanMessage(content='Sorry, did I already introduce myself?', additional_kwargs={}, response_metadata={}, id='d64a6420-2eed-4486-825b-33a3810c0c1c'),\n",
       "  AIMessage(content='No need to apologize! You just introduced yourself. How can I help you today, John?', additional_kwargs={'refusal': None}, response_metadata={'token_usage': {'completion_tokens': 21, 'prompt_tokens': 96, 'total_tokens': 117, 'completion_tokens_details': {'accepted_prediction_tokens': 0, 'audio_tokens': 0, 'reasoning_tokens': 0, 'rejected_prediction_tokens': 0}, 'prompt_tokens_details': {'audio_tokens': 0, 'cached_tokens': 0}}, 'model_name': 'gpt-4o-mini-2024-07-18', 'system_fingerprint': 'fp_bd83329f63', 'finish_reason': 'stop', 'logprobs': None}, id='run-10b256e7-c3d6-48a7-8f3c-647b2827e112-0', usage_metadata={'input_tokens': 96, 'output_tokens': 21, 'total_tokens': 117, 'input_token_details': {'audio': 0, 'cache_read': 0}, 'output_token_details': {'audio': 0, 'reasoning': 0}})]}"
      ]
     },
     "execution_count": 8,
     "metadata": {},
     "output_type": "execute_result"
    }
   ],
   "source": [
    "config = {\"configurable\": {\"thread_id\": \"1\"}}\n",
    "input_message = HumanMessage(content=\"Sorry, did I already introduce myself?\")\n",
    "\n",
    "graph.invoke({\"messages\": input_message}, config=config)"
   ]
  },
  {
   "cell_type": "code",
   "execution_count": 9,
   "metadata": {},
   "outputs": [
    {
     "data": {
      "text/plain": [
       "()"
      ]
     },
     "execution_count": 9,
     "metadata": {},
     "output_type": "execute_result"
    }
   ],
   "source": [
    "snapshot = graph.get_state(config)\n",
    "snapshot.next"
   ]
  },
  {
   "cell_type": "code",
   "execution_count": 10,
   "metadata": {},
   "outputs": [
    {
     "data": {
      "text/plain": [
       "{'messages': [HumanMessage(content='How is the weather in Munich?', additional_kwargs={}, response_metadata={}, id='c349cad5-a02e-4fc7-9658-1f1bbc8d2f1c'),\n",
       "  AIMessage(content='', additional_kwargs={'tool_calls': [{'id': 'call_qxtICoZkzXX7GTbMLWCMYE2F', 'function': {'arguments': '{\"location\":\"Munich\"}', 'name': 'get_weather'}, 'type': 'function'}], 'refusal': None}, response_metadata={'token_usage': {'completion_tokens': 16, 'prompt_tokens': 72, 'total_tokens': 88, 'completion_tokens_details': {'accepted_prediction_tokens': 0, 'audio_tokens': 0, 'reasoning_tokens': 0, 'rejected_prediction_tokens': 0}, 'prompt_tokens_details': {'audio_tokens': 0, 'cached_tokens': 0}}, 'model_name': 'gpt-4o-mini-2024-07-18', 'system_fingerprint': 'fp_bd83329f63', 'finish_reason': 'tool_calls', 'logprobs': None}, id='run-be6f2bbd-3a80-4a7b-82dd-2552939cc971-0', tool_calls=[{'name': 'get_weather', 'args': {'location': 'Munich'}, 'id': 'call_qxtICoZkzXX7GTbMLWCMYE2F', 'type': 'tool_call'}], usage_metadata={'input_tokens': 72, 'output_tokens': 16, 'total_tokens': 88, 'input_token_details': {'audio': 0, 'cache_read': 0}, 'output_token_details': {'audio': 0, 'reasoning': 0}})]}"
      ]
     },
     "execution_count": 10,
     "metadata": {},
     "output_type": "execute_result"
    }
   ],
   "source": [
    "from langchain_core.messages import HumanMessage\n",
    "\n",
    "config = {\"configurable\": {\"thread_id\": \"3\"}}\n",
    "input_message = HumanMessage(content=\"How is the weather in Munich?\")\n",
    "\n",
    "graph.invoke({\"messages\": input_message}, config=config)"
   ]
  },
  {
   "cell_type": "code",
   "execution_count": 11,
   "metadata": {},
   "outputs": [
    {
     "data": {
      "text/plain": [
       "('tools',)"
      ]
     },
     "execution_count": 11,
     "metadata": {},
     "output_type": "execute_result"
    }
   ],
   "source": [
    "snapshot = graph.get_state(config)\n",
    "snapshot.next"
   ]
  },
  {
   "cell_type": "code",
   "execution_count": 12,
   "metadata": {},
   "outputs": [
    {
     "data": {
      "text/plain": [
       "{'messages': [HumanMessage(content='How is the weather in Munich?', additional_kwargs={}, response_metadata={}, id='c349cad5-a02e-4fc7-9658-1f1bbc8d2f1c'),\n",
       "  AIMessage(content='', additional_kwargs={'tool_calls': [{'id': 'call_qxtICoZkzXX7GTbMLWCMYE2F', 'function': {'arguments': '{\"location\":\"Munich\"}', 'name': 'get_weather'}, 'type': 'function'}], 'refusal': None}, response_metadata={'token_usage': {'completion_tokens': 16, 'prompt_tokens': 72, 'total_tokens': 88, 'completion_tokens_details': {'accepted_prediction_tokens': 0, 'audio_tokens': 0, 'reasoning_tokens': 0, 'rejected_prediction_tokens': 0}, 'prompt_tokens_details': {'audio_tokens': 0, 'cached_tokens': 0}}, 'model_name': 'gpt-4o-mini-2024-07-18', 'system_fingerprint': 'fp_bd83329f63', 'finish_reason': 'tool_calls', 'logprobs': None}, id='run-be6f2bbd-3a80-4a7b-82dd-2552939cc971-0', tool_calls=[{'name': 'get_weather', 'args': {'location': 'Munich'}, 'id': 'call_qxtICoZkzXX7GTbMLWCMYE2F', 'type': 'tool_call'}], usage_metadata={'input_tokens': 72, 'output_tokens': 16, 'total_tokens': 88, 'input_token_details': {'audio': 0, 'cache_read': 0}, 'output_token_details': {'audio': 0, 'reasoning': 0}}),\n",
       "  ToolMessage(content=\"It's 15 degrees Celsius and cloudy.\", name='get_weather', id='81f45517-63e0-4d96-87cf-5c58012f4236', tool_call_id='call_qxtICoZkzXX7GTbMLWCMYE2F'),\n",
       "  AIMessage(content='The weather in Munich is currently 15 degrees Celsius and cloudy.', additional_kwargs={'refusal': None}, response_metadata={'token_usage': {'completion_tokens': 15, 'prompt_tokens': 103, 'total_tokens': 118, 'completion_tokens_details': {'accepted_prediction_tokens': 0, 'audio_tokens': 0, 'reasoning_tokens': 0, 'rejected_prediction_tokens': 0}, 'prompt_tokens_details': {'audio_tokens': 0, 'cached_tokens': 0}}, 'model_name': 'gpt-4o-mini-2024-07-18', 'system_fingerprint': 'fp_72ed7ab54c', 'finish_reason': 'stop', 'logprobs': None}, id='run-54acb5c9-46c6-468f-b682-3cd045f188f0-0', usage_metadata={'input_tokens': 103, 'output_tokens': 15, 'total_tokens': 118, 'input_token_details': {'audio': 0, 'cache_read': 0}, 'output_token_details': {'audio': 0, 'reasoning': 0}})]}"
      ]
     },
     "execution_count": 12,
     "metadata": {},
     "output_type": "execute_result"
    }
   ],
   "source": [
    "graph.invoke(None, config=config)"
   ]
  },
  {
   "cell_type": "markdown",
   "metadata": {},
   "source": [
    "### Timetravel"
   ]
  },
  {
   "cell_type": "code",
   "execution_count": 13,
   "metadata": {},
   "outputs": [
    {
     "data": {
      "text/plain": [
       "{'messages': [HumanMessage(content='How is the weather in Munich?', additional_kwargs={}, response_metadata={}, id='c0ab3dc0-b82a-44c8-8242-085f55b7c652'),\n",
       "  AIMessage(content='', additional_kwargs={'tool_calls': [{'id': 'call_mYhSOOyAZbh62tolgzJEqwdy', 'function': {'arguments': '{\"location\":\"Munich\"}', 'name': 'get_weather'}, 'type': 'function'}], 'refusal': None}, response_metadata={'token_usage': {'completion_tokens': 16, 'prompt_tokens': 72, 'total_tokens': 88, 'completion_tokens_details': {'accepted_prediction_tokens': 0, 'audio_tokens': 0, 'reasoning_tokens': 0, 'rejected_prediction_tokens': 0}, 'prompt_tokens_details': {'audio_tokens': 0, 'cached_tokens': 0}}, 'model_name': 'gpt-4o-mini-2024-07-18', 'system_fingerprint': 'fp_72ed7ab54c', 'finish_reason': 'tool_calls', 'logprobs': None}, id='run-44e23285-c5a2-4334-b346-5c554cfd434a-0', tool_calls=[{'name': 'get_weather', 'args': {'location': 'Munich'}, 'id': 'call_mYhSOOyAZbh62tolgzJEqwdy', 'type': 'tool_call'}], usage_metadata={'input_tokens': 72, 'output_tokens': 16, 'total_tokens': 88, 'input_token_details': {'audio': 0, 'cache_read': 0}, 'output_token_details': {'audio': 0, 'reasoning': 0}})]}"
      ]
     },
     "execution_count": 13,
     "metadata": {},
     "output_type": "execute_result"
    }
   ],
   "source": [
    "from langchain_core.messages import HumanMessage\n",
    "\n",
    "config = {\"configurable\": {\"thread_id\": \"4\"}}\n",
    "input_message = HumanMessage(content=\"How is the weather in Munich?\")\n",
    "\n",
    "graph.invoke({\"messages\": input_message}, config=config)"
   ]
  },
  {
   "cell_type": "code",
   "execution_count": 14,
   "metadata": {},
   "outputs": [
    {
     "name": "stdout",
     "output_type": "stream",
     "text": [
      "==================================\u001b[1m Ai Message \u001b[0m==================================\n",
      "Tool Calls:\n",
      "  get_weather (call_mYhSOOyAZbh62tolgzJEqwdy)\n",
      " Call ID: call_mYhSOOyAZbh62tolgzJEqwdy\n",
      "  Args:\n",
      "    location: Munich\n"
     ]
    }
   ],
   "source": [
    "snapshot = graph.get_state(config)\n",
    "existing_message = snapshot.values[\"messages\"][-1]\n",
    "existing_message.pretty_print()"
   ]
  },
  {
   "cell_type": "code",
   "execution_count": 15,
   "metadata": {},
   "outputs": [
    {
     "data": {
      "text/plain": [
       "{'configurable': {'thread_id': '4',\n",
       "  'checkpoint_ns': '',\n",
       "  'checkpoint_id': '1efe94fe-feab-60a3-8002-e2bc7599c21b'}}"
      ]
     },
     "execution_count": 15,
     "metadata": {},
     "output_type": "execute_result"
    }
   ],
   "source": [
    "from langchain_core.messages import AIMessage, ToolMessage\n",
    "\n",
    "answer = \"It is only 5°C warm today!\"\n",
    "new_messages = [\n",
    "    ToolMessage(content=answer, tool_call_id=existing_message.tool_calls[0][\"id\"]),\n",
    "    AIMessage(content=answer),\n",
    "]\n",
    "graph.update_state(\n",
    "    config,\n",
    "    {\"messages\": new_messages},\n",
    ")"
   ]
  },
  {
   "cell_type": "code",
   "execution_count": 16,
   "metadata": {},
   "outputs": [
    {
     "name": "stdout",
     "output_type": "stream",
     "text": [
      "[HumanMessage(content='How is the weather in Munich?', additional_kwargs={}, response_metadata={}, id='c0ab3dc0-b82a-44c8-8242-085f55b7c652'), AIMessage(content='', additional_kwargs={'tool_calls': [{'id': 'call_mYhSOOyAZbh62tolgzJEqwdy', 'function': {'arguments': '{\"location\":\"Munich\"}', 'name': 'get_weather'}, 'type': 'function'}], 'refusal': None}, response_metadata={'token_usage': {'completion_tokens': 16, 'prompt_tokens': 72, 'total_tokens': 88, 'completion_tokens_details': {'accepted_prediction_tokens': 0, 'audio_tokens': 0, 'reasoning_tokens': 0, 'rejected_prediction_tokens': 0}, 'prompt_tokens_details': {'audio_tokens': 0, 'cached_tokens': 0}}, 'model_name': 'gpt-4o-mini-2024-07-18', 'system_fingerprint': 'fp_72ed7ab54c', 'finish_reason': 'tool_calls', 'logprobs': None}, id='run-44e23285-c5a2-4334-b346-5c554cfd434a-0', tool_calls=[{'name': 'get_weather', 'args': {'location': 'Munich'}, 'id': 'call_mYhSOOyAZbh62tolgzJEqwdy', 'type': 'tool_call'}], usage_metadata={'input_tokens': 72, 'output_tokens': 16, 'total_tokens': 88, 'input_token_details': {'audio': 0, 'cache_read': 0}, 'output_token_details': {'audio': 0, 'reasoning': 0}}), ToolMessage(content='It is only 5°C warm today!', id='8473f6de-3686-4cc4-972d-371e3e5b70d9', tool_call_id='call_mYhSOOyAZbh62tolgzJEqwdy'), AIMessage(content='It is only 5°C warm today!', additional_kwargs={}, response_metadata={}, id='f7251310-953a-44b3-afa5-c8cee5fc6451')]\n"
     ]
    }
   ],
   "source": [
    "print((graph.get_state(config).values[\"messages\"]))"
   ]
  },
  {
   "cell_type": "code",
   "execution_count": 17,
   "metadata": {},
   "outputs": [
    {
     "data": {
      "text/plain": [
       "{'messages': [HumanMessage(content='How is the weather in Munich?', additional_kwargs={}, response_metadata={}, id='c0ab3dc0-b82a-44c8-8242-085f55b7c652'),\n",
       "  AIMessage(content='', additional_kwargs={'tool_calls': [{'id': 'call_mYhSOOyAZbh62tolgzJEqwdy', 'function': {'arguments': '{\"location\":\"Munich\"}', 'name': 'get_weather'}, 'type': 'function'}], 'refusal': None}, response_metadata={'token_usage': {'completion_tokens': 16, 'prompt_tokens': 72, 'total_tokens': 88, 'completion_tokens_details': {'accepted_prediction_tokens': 0, 'audio_tokens': 0, 'reasoning_tokens': 0, 'rejected_prediction_tokens': 0}, 'prompt_tokens_details': {'audio_tokens': 0, 'cached_tokens': 0}}, 'model_name': 'gpt-4o-mini-2024-07-18', 'system_fingerprint': 'fp_72ed7ab54c', 'finish_reason': 'tool_calls', 'logprobs': None}, id='run-44e23285-c5a2-4334-b346-5c554cfd434a-0', tool_calls=[{'name': 'get_weather', 'args': {'location': 'Munich'}, 'id': 'call_mYhSOOyAZbh62tolgzJEqwdy', 'type': 'tool_call'}], usage_metadata={'input_tokens': 72, 'output_tokens': 16, 'total_tokens': 88, 'input_token_details': {'audio': 0, 'cache_read': 0}, 'output_token_details': {'audio': 0, 'reasoning': 0}}),\n",
       "  ToolMessage(content='It is only 5°C warm today!', id='8473f6de-3686-4cc4-972d-371e3e5b70d9', tool_call_id='call_mYhSOOyAZbh62tolgzJEqwdy'),\n",
       "  AIMessage(content='It is only 5°C warm today!', additional_kwargs={}, response_metadata={}, id='f7251310-953a-44b3-afa5-c8cee5fc6451'),\n",
       "  HumanMessage(content='How warm was it again?', additional_kwargs={}, response_metadata={}, id='bdf84195-c8c2-467c-ab4b-1056f25a3e1f'),\n",
       "  AIMessage(content='It was 5°C warm today.', additional_kwargs={'refusal': None}, response_metadata={'token_usage': {'completion_tokens': 10, 'prompt_tokens': 127, 'total_tokens': 137, 'completion_tokens_details': {'accepted_prediction_tokens': 0, 'audio_tokens': 0, 'reasoning_tokens': 0, 'rejected_prediction_tokens': 0}, 'prompt_tokens_details': {'audio_tokens': 0, 'cached_tokens': 0}}, 'model_name': 'gpt-4o-mini-2024-07-18', 'system_fingerprint': 'fp_bd83329f63', 'finish_reason': 'stop', 'logprobs': None}, id='run-998998cd-90d1-4ff7-b0bb-cd876e37ab3f-0', usage_metadata={'input_tokens': 127, 'output_tokens': 10, 'total_tokens': 137, 'input_token_details': {'audio': 0, 'cache_read': 0}, 'output_token_details': {'audio': 0, 'reasoning': 0}})]}"
      ]
     },
     "execution_count": 17,
     "metadata": {},
     "output_type": "execute_result"
    }
   ],
   "source": [
    "config = {\"configurable\": {\"thread_id\": \"4\"}}\n",
    "input_message = HumanMessage(content=\"How warm was it again?\")\n",
    "\n",
    "graph.invoke({\"messages\": input_message}, config=config)"
   ]
  },
  {
   "cell_type": "markdown",
   "metadata": {},
   "source": [
    "### Replay"
   ]
  },
  {
   "cell_type": "code",
   "execution_count": 18,
   "metadata": {},
   "outputs": [
    {
     "data": {
      "text/plain": [
       "[StateSnapshot(values={'messages': [HumanMessage(content='How is the weather in Munich?', additional_kwargs={}, response_metadata={}, id='c0ab3dc0-b82a-44c8-8242-085f55b7c652'), AIMessage(content='', additional_kwargs={'tool_calls': [{'id': 'call_mYhSOOyAZbh62tolgzJEqwdy', 'function': {'arguments': '{\"location\":\"Munich\"}', 'name': 'get_weather'}, 'type': 'function'}], 'refusal': None}, response_metadata={'token_usage': {'completion_tokens': 16, 'prompt_tokens': 72, 'total_tokens': 88, 'completion_tokens_details': {'accepted_prediction_tokens': 0, 'audio_tokens': 0, 'reasoning_tokens': 0, 'rejected_prediction_tokens': 0}, 'prompt_tokens_details': {'audio_tokens': 0, 'cached_tokens': 0}}, 'model_name': 'gpt-4o-mini-2024-07-18', 'system_fingerprint': 'fp_72ed7ab54c', 'finish_reason': 'tool_calls', 'logprobs': None}, id='run-44e23285-c5a2-4334-b346-5c554cfd434a-0', tool_calls=[{'name': 'get_weather', 'args': {'location': 'Munich'}, 'id': 'call_mYhSOOyAZbh62tolgzJEqwdy', 'type': 'tool_call'}], usage_metadata={'input_tokens': 72, 'output_tokens': 16, 'total_tokens': 88, 'input_token_details': {'audio': 0, 'cache_read': 0}, 'output_token_details': {'audio': 0, 'reasoning': 0}}), ToolMessage(content='It is only 5°C warm today!', id='8473f6de-3686-4cc4-972d-371e3e5b70d9', tool_call_id='call_mYhSOOyAZbh62tolgzJEqwdy'), AIMessage(content='It is only 5°C warm today!', additional_kwargs={}, response_metadata={}, id='f7251310-953a-44b3-afa5-c8cee5fc6451'), HumanMessage(content='How warm was it again?', additional_kwargs={}, response_metadata={}, id='bdf84195-c8c2-467c-ab4b-1056f25a3e1f'), AIMessage(content='It was 5°C warm today.', additional_kwargs={'refusal': None}, response_metadata={'token_usage': {'completion_tokens': 10, 'prompt_tokens': 127, 'total_tokens': 137, 'completion_tokens_details': {'accepted_prediction_tokens': 0, 'audio_tokens': 0, 'reasoning_tokens': 0, 'rejected_prediction_tokens': 0}, 'prompt_tokens_details': {'audio_tokens': 0, 'cached_tokens': 0}}, 'model_name': 'gpt-4o-mini-2024-07-18', 'system_fingerprint': 'fp_bd83329f63', 'finish_reason': 'stop', 'logprobs': None}, id='run-998998cd-90d1-4ff7-b0bb-cd876e37ab3f-0', usage_metadata={'input_tokens': 127, 'output_tokens': 10, 'total_tokens': 137, 'input_token_details': {'audio': 0, 'cache_read': 0}, 'output_token_details': {'audio': 0, 'reasoning': 0}})]}, next=(), config={'configurable': {'thread_id': '4', 'checkpoint_ns': '', 'checkpoint_id': '1efe94ff-4714-6574-8005-116e68198296'}}, metadata={'source': 'loop', 'writes': {'chatbot': {'messages': [AIMessage(content='It was 5°C warm today.', additional_kwargs={'refusal': None}, response_metadata={'token_usage': {'completion_tokens': 10, 'prompt_tokens': 127, 'total_tokens': 137, 'completion_tokens_details': {'accepted_prediction_tokens': 0, 'audio_tokens': 0, 'reasoning_tokens': 0, 'rejected_prediction_tokens': 0}, 'prompt_tokens_details': {'audio_tokens': 0, 'cached_tokens': 0}}, 'model_name': 'gpt-4o-mini-2024-07-18', 'system_fingerprint': 'fp_bd83329f63', 'finish_reason': 'stop', 'logprobs': None}, id='run-998998cd-90d1-4ff7-b0bb-cd876e37ab3f-0', usage_metadata={'input_tokens': 127, 'output_tokens': 10, 'total_tokens': 137, 'input_token_details': {'audio': 0, 'cache_read': 0}, 'output_token_details': {'audio': 0, 'reasoning': 0}})]}}, 'thread_id': '4', 'step': 5, 'parents': {}}, created_at='2025-02-12T14:45:08.452696+00:00', parent_config={'configurable': {'thread_id': '4', 'checkpoint_ns': '', 'checkpoint_id': '1efe94ff-3e55-6075-8004-a81ed77f2392'}}, tasks=()),\n",
       " StateSnapshot(values={'messages': [HumanMessage(content='How is the weather in Munich?', additional_kwargs={}, response_metadata={}, id='c0ab3dc0-b82a-44c8-8242-085f55b7c652'), AIMessage(content='', additional_kwargs={'tool_calls': [{'id': 'call_mYhSOOyAZbh62tolgzJEqwdy', 'function': {'arguments': '{\"location\":\"Munich\"}', 'name': 'get_weather'}, 'type': 'function'}], 'refusal': None}, response_metadata={'token_usage': {'completion_tokens': 16, 'prompt_tokens': 72, 'total_tokens': 88, 'completion_tokens_details': {'accepted_prediction_tokens': 0, 'audio_tokens': 0, 'reasoning_tokens': 0, 'rejected_prediction_tokens': 0}, 'prompt_tokens_details': {'audio_tokens': 0, 'cached_tokens': 0}}, 'model_name': 'gpt-4o-mini-2024-07-18', 'system_fingerprint': 'fp_72ed7ab54c', 'finish_reason': 'tool_calls', 'logprobs': None}, id='run-44e23285-c5a2-4334-b346-5c554cfd434a-0', tool_calls=[{'name': 'get_weather', 'args': {'location': 'Munich'}, 'id': 'call_mYhSOOyAZbh62tolgzJEqwdy', 'type': 'tool_call'}], usage_metadata={'input_tokens': 72, 'output_tokens': 16, 'total_tokens': 88, 'input_token_details': {'audio': 0, 'cache_read': 0}, 'output_token_details': {'audio': 0, 'reasoning': 0}}), ToolMessage(content='It is only 5°C warm today!', id='8473f6de-3686-4cc4-972d-371e3e5b70d9', tool_call_id='call_mYhSOOyAZbh62tolgzJEqwdy'), AIMessage(content='It is only 5°C warm today!', additional_kwargs={}, response_metadata={}, id='f7251310-953a-44b3-afa5-c8cee5fc6451'), HumanMessage(content='How warm was it again?', additional_kwargs={}, response_metadata={}, id='bdf84195-c8c2-467c-ab4b-1056f25a3e1f')]}, next=('chatbot',), config={'configurable': {'thread_id': '4', 'checkpoint_ns': '', 'checkpoint_id': '1efe94ff-3e55-6075-8004-a81ed77f2392'}}, metadata={'source': 'loop', 'writes': None, 'thread_id': '4', 'step': 4, 'parents': {}}, created_at='2025-02-12T14:45:07.535474+00:00', parent_config={'configurable': {'thread_id': '4', 'checkpoint_ns': '', 'checkpoint_id': '1efe94ff-3e55-6074-8003-ee67446bf295'}}, tasks=(PregelTask(id='e04832d0-cba1-bf1a-f03c-6ca9d1374e14', name='chatbot', path=('__pregel_pull', 'chatbot'), error=None, interrupts=(), state=None, result={'messages': [AIMessage(content='It was 5°C warm today.', additional_kwargs={'refusal': None}, response_metadata={'token_usage': {'completion_tokens': 10, 'prompt_tokens': 127, 'total_tokens': 137, 'completion_tokens_details': {'accepted_prediction_tokens': 0, 'audio_tokens': 0, 'reasoning_tokens': 0, 'rejected_prediction_tokens': 0}, 'prompt_tokens_details': {'audio_tokens': 0, 'cached_tokens': 0}}, 'model_name': 'gpt-4o-mini-2024-07-18', 'system_fingerprint': 'fp_bd83329f63', 'finish_reason': 'stop', 'logprobs': None}, id='run-998998cd-90d1-4ff7-b0bb-cd876e37ab3f-0', usage_metadata={'input_tokens': 127, 'output_tokens': 10, 'total_tokens': 137, 'input_token_details': {'audio': 0, 'cache_read': 0}, 'output_token_details': {'audio': 0, 'reasoning': 0}})]}),)),\n",
       " StateSnapshot(values={'messages': [HumanMessage(content='How is the weather in Munich?', additional_kwargs={}, response_metadata={}, id='c0ab3dc0-b82a-44c8-8242-085f55b7c652'), AIMessage(content='', additional_kwargs={'tool_calls': [{'id': 'call_mYhSOOyAZbh62tolgzJEqwdy', 'function': {'arguments': '{\"location\":\"Munich\"}', 'name': 'get_weather'}, 'type': 'function'}], 'refusal': None}, response_metadata={'token_usage': {'completion_tokens': 16, 'prompt_tokens': 72, 'total_tokens': 88, 'completion_tokens_details': {'accepted_prediction_tokens': 0, 'audio_tokens': 0, 'reasoning_tokens': 0, 'rejected_prediction_tokens': 0}, 'prompt_tokens_details': {'audio_tokens': 0, 'cached_tokens': 0}}, 'model_name': 'gpt-4o-mini-2024-07-18', 'system_fingerprint': 'fp_72ed7ab54c', 'finish_reason': 'tool_calls', 'logprobs': None}, id='run-44e23285-c5a2-4334-b346-5c554cfd434a-0', tool_calls=[{'name': 'get_weather', 'args': {'location': 'Munich'}, 'id': 'call_mYhSOOyAZbh62tolgzJEqwdy', 'type': 'tool_call'}], usage_metadata={'input_tokens': 72, 'output_tokens': 16, 'total_tokens': 88, 'input_token_details': {'audio': 0, 'cache_read': 0}, 'output_token_details': {'audio': 0, 'reasoning': 0}}), ToolMessage(content='It is only 5°C warm today!', id='8473f6de-3686-4cc4-972d-371e3e5b70d9', tool_call_id='call_mYhSOOyAZbh62tolgzJEqwdy'), AIMessage(content='It is only 5°C warm today!', additional_kwargs={}, response_metadata={}, id='f7251310-953a-44b3-afa5-c8cee5fc6451')]}, next=('__start__',), config={'configurable': {'thread_id': '4', 'checkpoint_ns': '', 'checkpoint_id': '1efe94ff-3e55-6074-8003-ee67446bf295'}}, metadata={'source': 'input', 'writes': {'__start__': {'messages': HumanMessage(content='How warm was it again?', additional_kwargs={}, response_metadata={})}}, 'thread_id': '4', 'step': 3, 'parents': {}}, created_at='2025-02-12T14:45:07.535474+00:00', parent_config={'configurable': {'thread_id': '4', 'checkpoint_ns': '', 'checkpoint_id': '1efe94fe-feab-60a3-8002-e2bc7599c21b'}}, tasks=(PregelTask(id='df224e98-cfca-352a-94b2-df025ce17879', name='__start__', path=('__pregel_pull', '__start__'), error=None, interrupts=(), state=None, result={'messages': HumanMessage(content='How warm was it again?', additional_kwargs={}, response_metadata={}, id='bdf84195-c8c2-467c-ab4b-1056f25a3e1f')}),)),\n",
       " StateSnapshot(values={'messages': [HumanMessage(content='How is the weather in Munich?', additional_kwargs={}, response_metadata={}, id='c0ab3dc0-b82a-44c8-8242-085f55b7c652'), AIMessage(content='', additional_kwargs={'tool_calls': [{'id': 'call_mYhSOOyAZbh62tolgzJEqwdy', 'function': {'arguments': '{\"location\":\"Munich\"}', 'name': 'get_weather'}, 'type': 'function'}], 'refusal': None}, response_metadata={'token_usage': {'completion_tokens': 16, 'prompt_tokens': 72, 'total_tokens': 88, 'completion_tokens_details': {'accepted_prediction_tokens': 0, 'audio_tokens': 0, 'reasoning_tokens': 0, 'rejected_prediction_tokens': 0}, 'prompt_tokens_details': {'audio_tokens': 0, 'cached_tokens': 0}}, 'model_name': 'gpt-4o-mini-2024-07-18', 'system_fingerprint': 'fp_72ed7ab54c', 'finish_reason': 'tool_calls', 'logprobs': None}, id='run-44e23285-c5a2-4334-b346-5c554cfd434a-0', tool_calls=[{'name': 'get_weather', 'args': {'location': 'Munich'}, 'id': 'call_mYhSOOyAZbh62tolgzJEqwdy', 'type': 'tool_call'}], usage_metadata={'input_tokens': 72, 'output_tokens': 16, 'total_tokens': 88, 'input_token_details': {'audio': 0, 'cache_read': 0}, 'output_token_details': {'audio': 0, 'reasoning': 0}}), ToolMessage(content='It is only 5°C warm today!', id='8473f6de-3686-4cc4-972d-371e3e5b70d9', tool_call_id='call_mYhSOOyAZbh62tolgzJEqwdy'), AIMessage(content='It is only 5°C warm today!', additional_kwargs={}, response_metadata={}, id='f7251310-953a-44b3-afa5-c8cee5fc6451')]}, next=(), config={'configurable': {'thread_id': '4', 'checkpoint_ns': '', 'checkpoint_id': '1efe94fe-feab-60a3-8002-e2bc7599c21b'}}, metadata={'source': 'update', 'writes': {'chatbot': {'messages': [ToolMessage(content='It is only 5°C warm today!', id='8473f6de-3686-4cc4-972d-371e3e5b70d9', tool_call_id='call_mYhSOOyAZbh62tolgzJEqwdy'), AIMessage(content='It is only 5°C warm today!', additional_kwargs={}, response_metadata={}, id='f7251310-953a-44b3-afa5-c8cee5fc6451')]}}, 'thread_id': '4', 'step': 2, 'parents': {}}, created_at='2025-02-12T14:45:00.859817+00:00', parent_config={'configurable': {'thread_id': '4', 'checkpoint_ns': '', 'checkpoint_id': '1efe94fe-3570-6b93-8001-e7792c73e56d'}}, tasks=()),\n",
       " StateSnapshot(values={'messages': [HumanMessage(content='How is the weather in Munich?', additional_kwargs={}, response_metadata={}, id='c0ab3dc0-b82a-44c8-8242-085f55b7c652'), AIMessage(content='', additional_kwargs={'tool_calls': [{'id': 'call_mYhSOOyAZbh62tolgzJEqwdy', 'function': {'arguments': '{\"location\":\"Munich\"}', 'name': 'get_weather'}, 'type': 'function'}], 'refusal': None}, response_metadata={'token_usage': {'completion_tokens': 16, 'prompt_tokens': 72, 'total_tokens': 88, 'completion_tokens_details': {'accepted_prediction_tokens': 0, 'audio_tokens': 0, 'reasoning_tokens': 0, 'rejected_prediction_tokens': 0}, 'prompt_tokens_details': {'audio_tokens': 0, 'cached_tokens': 0}}, 'model_name': 'gpt-4o-mini-2024-07-18', 'system_fingerprint': 'fp_72ed7ab54c', 'finish_reason': 'tool_calls', 'logprobs': None}, id='run-44e23285-c5a2-4334-b346-5c554cfd434a-0', tool_calls=[{'name': 'get_weather', 'args': {'location': 'Munich'}, 'id': 'call_mYhSOOyAZbh62tolgzJEqwdy', 'type': 'tool_call'}], usage_metadata={'input_tokens': 72, 'output_tokens': 16, 'total_tokens': 88, 'input_token_details': {'audio': 0, 'cache_read': 0}, 'output_token_details': {'audio': 0, 'reasoning': 0}})]}, next=('tools',), config={'configurable': {'thread_id': '4', 'checkpoint_ns': '', 'checkpoint_id': '1efe94fe-3570-6b93-8001-e7792c73e56d'}}, metadata={'source': 'loop', 'writes': {'chatbot': {'messages': [AIMessage(content='', additional_kwargs={'tool_calls': [{'id': 'call_mYhSOOyAZbh62tolgzJEqwdy', 'function': {'arguments': '{\"location\":\"Munich\"}', 'name': 'get_weather'}, 'type': 'function'}], 'refusal': None}, response_metadata={'token_usage': {'completion_tokens': 16, 'prompt_tokens': 72, 'total_tokens': 88, 'completion_tokens_details': {'accepted_prediction_tokens': 0, 'audio_tokens': 0, 'reasoning_tokens': 0, 'rejected_prediction_tokens': 0}, 'prompt_tokens_details': {'audio_tokens': 0, 'cached_tokens': 0}}, 'model_name': 'gpt-4o-mini-2024-07-18', 'system_fingerprint': 'fp_72ed7ab54c', 'finish_reason': 'tool_calls', 'logprobs': None}, id='run-44e23285-c5a2-4334-b346-5c554cfd434a-0', tool_calls=[{'name': 'get_weather', 'args': {'location': 'Munich'}, 'id': 'call_mYhSOOyAZbh62tolgzJEqwdy', 'type': 'tool_call'}], usage_metadata={'input_tokens': 72, 'output_tokens': 16, 'total_tokens': 88, 'input_token_details': {'audio': 0, 'cache_read': 0}, 'output_token_details': {'audio': 0, 'reasoning': 0}})]}}, 'thread_id': '4', 'step': 1, 'parents': {}}, created_at='2025-02-12T14:44:39.759553+00:00', parent_config={'configurable': {'thread_id': '4', 'checkpoint_ns': '', 'checkpoint_id': '1efe94fe-2d8a-6d4f-8000-2e0febdcbb34'}}, tasks=(PregelTask(id='c33c5a0e-61a0-e5f3-eb9a-2ebd47c19134', name='tools', path=('__pregel_pull', 'tools'), error=None, interrupts=(), state=None, result=None),)),\n",
       " StateSnapshot(values={'messages': [HumanMessage(content='How is the weather in Munich?', additional_kwargs={}, response_metadata={}, id='c0ab3dc0-b82a-44c8-8242-085f55b7c652')]}, next=('chatbot',), config={'configurable': {'thread_id': '4', 'checkpoint_ns': '', 'checkpoint_id': '1efe94fe-2d8a-6d4f-8000-2e0febdcbb34'}}, metadata={'source': 'loop', 'writes': None, 'thread_id': '4', 'step': 0, 'parents': {}}, created_at='2025-02-12T14:44:38.931387+00:00', parent_config={'configurable': {'thread_id': '4', 'checkpoint_ns': '', 'checkpoint_id': '1efe94fe-2d83-613a-bfff-4275399f5ef8'}}, tasks=(PregelTask(id='9c34596b-3ae2-61d3-75d9-2e243927a6cc', name='chatbot', path=('__pregel_pull', 'chatbot'), error=None, interrupts=(), state=None, result={'messages': [AIMessage(content='', additional_kwargs={'tool_calls': [{'id': 'call_mYhSOOyAZbh62tolgzJEqwdy', 'function': {'arguments': '{\"location\":\"Munich\"}', 'name': 'get_weather'}, 'type': 'function'}], 'refusal': None}, response_metadata={'token_usage': {'completion_tokens': 16, 'prompt_tokens': 72, 'total_tokens': 88, 'completion_tokens_details': {'accepted_prediction_tokens': 0, 'audio_tokens': 0, 'reasoning_tokens': 0, 'rejected_prediction_tokens': 0}, 'prompt_tokens_details': {'audio_tokens': 0, 'cached_tokens': 0}}, 'model_name': 'gpt-4o-mini-2024-07-18', 'system_fingerprint': 'fp_72ed7ab54c', 'finish_reason': 'tool_calls', 'logprobs': None}, id='run-44e23285-c5a2-4334-b346-5c554cfd434a-0', tool_calls=[{'name': 'get_weather', 'args': {'location': 'Munich'}, 'id': 'call_mYhSOOyAZbh62tolgzJEqwdy', 'type': 'tool_call'}], usage_metadata={'input_tokens': 72, 'output_tokens': 16, 'total_tokens': 88, 'input_token_details': {'audio': 0, 'cache_read': 0}, 'output_token_details': {'audio': 0, 'reasoning': 0}})]}),)),\n",
       " StateSnapshot(values={'messages': []}, next=('__start__',), config={'configurable': {'thread_id': '4', 'checkpoint_ns': '', 'checkpoint_id': '1efe94fe-2d83-613a-bfff-4275399f5ef8'}}, metadata={'source': 'input', 'writes': {'__start__': {'messages': HumanMessage(content='How is the weather in Munich?', additional_kwargs={}, response_metadata={})}}, 'thread_id': '4', 'step': -1, 'parents': {}}, created_at='2025-02-12T14:44:38.928210+00:00', parent_config=None, tasks=(PregelTask(id='bdd45c59-4570-4f34-2aa9-272ba6f46fe9', name='__start__', path=('__pregel_pull', '__start__'), error=None, interrupts=(), state=None, result={'messages': HumanMessage(content='How is the weather in Munich?', additional_kwargs={}, response_metadata={}, id='c0ab3dc0-b82a-44c8-8242-085f55b7c652')}),))]"
      ]
     },
     "execution_count": 18,
     "metadata": {},
     "output_type": "execute_result"
    }
   ],
   "source": [
    "all_checkpoints = []\n",
    "for state in graph.get_state_history(config=config):\n",
    "    all_checkpoints.append(state)\n",
    "all_checkpoints"
   ]
  },
  {
   "cell_type": "code",
   "execution_count": 19,
   "metadata": {},
   "outputs": [
    {
     "data": {
      "text/plain": [
       "{'messages': [HumanMessage(content='How is the weather in Munich?', additional_kwargs={}, response_metadata={}, id='c0ab3dc0-b82a-44c8-8242-085f55b7c652'),\n",
       "  AIMessage(content='', additional_kwargs={'tool_calls': [{'id': 'call_mYhSOOyAZbh62tolgzJEqwdy', 'function': {'arguments': '{\"location\":\"Munich\"}', 'name': 'get_weather'}, 'type': 'function'}], 'refusal': None}, response_metadata={'token_usage': {'completion_tokens': 16, 'prompt_tokens': 72, 'total_tokens': 88, 'completion_tokens_details': {'accepted_prediction_tokens': 0, 'audio_tokens': 0, 'reasoning_tokens': 0, 'rejected_prediction_tokens': 0}, 'prompt_tokens_details': {'audio_tokens': 0, 'cached_tokens': 0}}, 'model_name': 'gpt-4o-mini-2024-07-18', 'system_fingerprint': 'fp_72ed7ab54c', 'finish_reason': 'tool_calls', 'logprobs': None}, id='run-44e23285-c5a2-4334-b346-5c554cfd434a-0', tool_calls=[{'name': 'get_weather', 'args': {'location': 'Munich'}, 'id': 'call_mYhSOOyAZbh62tolgzJEqwdy', 'type': 'tool_call'}], usage_metadata={'input_tokens': 72, 'output_tokens': 16, 'total_tokens': 88, 'input_token_details': {'audio': 0, 'cache_read': 0}, 'output_token_details': {'audio': 0, 'reasoning': 0}})]}"
      ]
     },
     "execution_count": 19,
     "metadata": {},
     "output_type": "execute_result"
    }
   ],
   "source": [
    "to_replay = all_checkpoints[4]\n",
    "to_replay.values"
   ]
  },
  {
   "cell_type": "code",
   "execution_count": 20,
   "metadata": {},
   "outputs": [
    {
     "data": {
      "text/plain": [
       "('tools',)"
      ]
     },
     "execution_count": 20,
     "metadata": {},
     "output_type": "execute_result"
    }
   ],
   "source": [
    "to_replay.next"
   ]
  },
  {
   "cell_type": "code",
   "execution_count": 21,
   "metadata": {},
   "outputs": [
    {
     "data": {
      "text/plain": [
       "{'configurable': {'thread_id': '4',\n",
       "  'checkpoint_ns': '',\n",
       "  'checkpoint_id': '1efe94fe-3570-6b93-8001-e7792c73e56d'}}"
      ]
     },
     "execution_count": 21,
     "metadata": {},
     "output_type": "execute_result"
    }
   ],
   "source": [
    "to_replay.config"
   ]
  },
  {
   "cell_type": "code",
   "execution_count": 22,
   "metadata": {},
   "outputs": [
    {
     "data": {
      "text/plain": [
       "{'messages': [HumanMessage(content='How is the weather in Munich?', additional_kwargs={}, response_metadata={}, id='c0ab3dc0-b82a-44c8-8242-085f55b7c652'),\n",
       "  AIMessage(content='', additional_kwargs={'tool_calls': [{'id': 'call_mYhSOOyAZbh62tolgzJEqwdy', 'function': {'arguments': '{\"location\":\"Munich\"}', 'name': 'get_weather'}, 'type': 'function'}], 'refusal': None}, response_metadata={'token_usage': {'completion_tokens': 16, 'prompt_tokens': 72, 'total_tokens': 88, 'completion_tokens_details': {'accepted_prediction_tokens': 0, 'audio_tokens': 0, 'reasoning_tokens': 0, 'rejected_prediction_tokens': 0}, 'prompt_tokens_details': {'audio_tokens': 0, 'cached_tokens': 0}}, 'model_name': 'gpt-4o-mini-2024-07-18', 'system_fingerprint': 'fp_72ed7ab54c', 'finish_reason': 'tool_calls', 'logprobs': None}, id='run-44e23285-c5a2-4334-b346-5c554cfd434a-0', tool_calls=[{'name': 'get_weather', 'args': {'location': 'Munich'}, 'id': 'call_mYhSOOyAZbh62tolgzJEqwdy', 'type': 'tool_call'}], usage_metadata={'input_tokens': 72, 'output_tokens': 16, 'total_tokens': 88, 'input_token_details': {'audio': 0, 'cache_read': 0}, 'output_token_details': {'audio': 0, 'reasoning': 0}}),\n",
       "  ToolMessage(content=\"It's 15 degrees Celsius and cloudy.\", name='get_weather', id='b3fc826c-a01c-4521-b236-d112c2eeeb34', tool_call_id='call_mYhSOOyAZbh62tolgzJEqwdy'),\n",
       "  AIMessage(content='The weather in Munich is currently 15 degrees Celsius and cloudy.', additional_kwargs={'refusal': None}, response_metadata={'token_usage': {'completion_tokens': 15, 'prompt_tokens': 103, 'total_tokens': 118, 'completion_tokens_details': {'accepted_prediction_tokens': 0, 'audio_tokens': 0, 'reasoning_tokens': 0, 'rejected_prediction_tokens': 0}, 'prompt_tokens_details': {'audio_tokens': 0, 'cached_tokens': 0}}, 'model_name': 'gpt-4o-mini-2024-07-18', 'system_fingerprint': 'fp_bd83329f63', 'finish_reason': 'stop', 'logprobs': None}, id='run-67ba2f28-5252-46f6-8fdf-d33c2304b052-0', usage_metadata={'input_tokens': 103, 'output_tokens': 15, 'total_tokens': 118, 'input_token_details': {'audio': 0, 'cache_read': 0}, 'output_token_details': {'audio': 0, 'reasoning': 0}})]}"
      ]
     },
     "execution_count": 22,
     "metadata": {},
     "output_type": "execute_result"
    }
   ],
   "source": [
    "graph.invoke(None, config=to_replay.config)"
   ]
  },
  {
   "cell_type": "markdown",
   "metadata": {},
   "source": [
    "### Branching off past state"
   ]
  },
  {
   "cell_type": "code",
   "execution_count": 23,
   "metadata": {},
   "outputs": [],
   "source": [
    "last_message = to_replay.values[\"messages\"][-1]"
   ]
  },
  {
   "cell_type": "code",
   "execution_count": 24,
   "metadata": {},
   "outputs": [
    {
     "data": {
      "text/plain": [
       "[{'name': 'get_weather',\n",
       "  'args': {'location': 'Munich'},\n",
       "  'id': 'call_mYhSOOyAZbh62tolgzJEqwdy',\n",
       "  'type': 'tool_call'}]"
      ]
     },
     "execution_count": 24,
     "metadata": {},
     "output_type": "execute_result"
    }
   ],
   "source": [
    "last_message.tool_calls"
   ]
  },
  {
   "cell_type": "code",
   "execution_count": 25,
   "metadata": {},
   "outputs": [
    {
     "data": {
      "text/plain": [
       "[{'name': 'broken_api',\n",
       "  'args': {'location': 'Munich'},\n",
       "  'id': 'call_mYhSOOyAZbh62tolgzJEqwdy',\n",
       "  'type': 'tool_call'}]"
      ]
     },
     "execution_count": 25,
     "metadata": {},
     "output_type": "execute_result"
    }
   ],
   "source": [
    "last_message.tool_calls[0][\"name\"] = \"broken_api\"\n",
    "last_message.tool_calls"
   ]
  },
  {
   "cell_type": "code",
   "execution_count": 26,
   "metadata": {},
   "outputs": [],
   "source": [
    "branch_config = graph.update_state(\n",
    "    to_replay.config,\n",
    "    {\"messages\": [last_message]},\n",
    ")"
   ]
  },
  {
   "cell_type": "code",
   "execution_count": 27,
   "metadata": {},
   "outputs": [
    {
     "data": {
      "text/plain": [
       "{'messages': [HumanMessage(content='How is the weather in Munich?', additional_kwargs={}, response_metadata={}, id='c0ab3dc0-b82a-44c8-8242-085f55b7c652'),\n",
       "  AIMessage(content='', additional_kwargs={'tool_calls': [{'id': 'call_mYhSOOyAZbh62tolgzJEqwdy', 'function': {'arguments': '{\"location\":\"Munich\"}', 'name': 'get_weather'}, 'type': 'function'}], 'refusal': None}, response_metadata={'token_usage': {'completion_tokens': 16, 'prompt_tokens': 72, 'total_tokens': 88, 'completion_tokens_details': {'accepted_prediction_tokens': 0, 'audio_tokens': 0, 'reasoning_tokens': 0, 'rejected_prediction_tokens': 0}, 'prompt_tokens_details': {'audio_tokens': 0, 'cached_tokens': 0}}, 'model_name': 'gpt-4o-mini-2024-07-18', 'system_fingerprint': 'fp_72ed7ab54c', 'finish_reason': 'tool_calls', 'logprobs': None}, id='run-44e23285-c5a2-4334-b346-5c554cfd434a-0', tool_calls=[{'name': 'broken_api', 'args': {'location': 'Munich'}, 'id': 'call_mYhSOOyAZbh62tolgzJEqwdy', 'type': 'tool_call'}], usage_metadata={'input_tokens': 72, 'output_tokens': 16, 'total_tokens': 88, 'input_token_details': {'audio': 0, 'cache_read': 0}, 'output_token_details': {'audio': 0, 'reasoning': 0}}),\n",
       "  ToolMessage(content='Currently no weather data available for Munich. Please try again later', name='broken_api', id='b04e9141-adfc-4eb8-8578-795bb2b33f85', tool_call_id='call_mYhSOOyAZbh62tolgzJEqwdy'),\n",
       "  AIMessage(content='', additional_kwargs={'tool_calls': [{'id': 'call_1WiPJ53MIPW5giNM1OyCD9w5', 'function': {'arguments': '{\"location\":\"Munich\"}', 'name': 'get_weather'}, 'type': 'function'}], 'refusal': None}, response_metadata={'token_usage': {'completion_tokens': 16, 'prompt_tokens': 108, 'total_tokens': 124, 'completion_tokens_details': {'accepted_prediction_tokens': 0, 'audio_tokens': 0, 'reasoning_tokens': 0, 'rejected_prediction_tokens': 0}, 'prompt_tokens_details': {'audio_tokens': 0, 'cached_tokens': 0}}, 'model_name': 'gpt-4o-mini-2024-07-18', 'system_fingerprint': 'fp_bd83329f63', 'finish_reason': 'tool_calls', 'logprobs': None}, id='run-41ad5323-01ab-4f73-b668-ae81c2bd4ba3-0', tool_calls=[{'name': 'get_weather', 'args': {'location': 'Munich'}, 'id': 'call_1WiPJ53MIPW5giNM1OyCD9w5', 'type': 'tool_call'}], usage_metadata={'input_tokens': 108, 'output_tokens': 16, 'total_tokens': 124, 'input_token_details': {'audio': 0, 'cache_read': 0}, 'output_token_details': {'audio': 0, 'reasoning': 0}})]}"
      ]
     },
     "execution_count": 27,
     "metadata": {},
     "output_type": "execute_result"
    }
   ],
   "source": [
    "graph.invoke(None, branch_config)"
   ]
  },
  {
   "cell_type": "code",
   "execution_count": 28,
   "metadata": {},
   "outputs": [
    {
     "data": {
      "text/plain": [
       "{'messages': [HumanMessage(content='How is the weather in Munich?', additional_kwargs={}, response_metadata={}, id='c0ab3dc0-b82a-44c8-8242-085f55b7c652'),\n",
       "  AIMessage(content='', additional_kwargs={'tool_calls': [{'id': 'call_mYhSOOyAZbh62tolgzJEqwdy', 'function': {'arguments': '{\"location\":\"Munich\"}', 'name': 'get_weather'}, 'type': 'function'}], 'refusal': None}, response_metadata={'token_usage': {'completion_tokens': 16, 'prompt_tokens': 72, 'total_tokens': 88, 'completion_tokens_details': {'accepted_prediction_tokens': 0, 'audio_tokens': 0, 'reasoning_tokens': 0, 'rejected_prediction_tokens': 0}, 'prompt_tokens_details': {'audio_tokens': 0, 'cached_tokens': 0}}, 'model_name': 'gpt-4o-mini-2024-07-18', 'system_fingerprint': 'fp_72ed7ab54c', 'finish_reason': 'tool_calls', 'logprobs': None}, id='run-44e23285-c5a2-4334-b346-5c554cfd434a-0', tool_calls=[{'name': 'broken_api', 'args': {'location': 'Munich'}, 'id': 'call_mYhSOOyAZbh62tolgzJEqwdy', 'type': 'tool_call'}], usage_metadata={'input_tokens': 72, 'output_tokens': 16, 'total_tokens': 88, 'input_token_details': {'audio': 0, 'cache_read': 0}, 'output_token_details': {'audio': 0, 'reasoning': 0}}),\n",
       "  ToolMessage(content='Currently no weather data available for Munich. Please try again later', name='broken_api', id='b04e9141-adfc-4eb8-8578-795bb2b33f85', tool_call_id='call_mYhSOOyAZbh62tolgzJEqwdy'),\n",
       "  AIMessage(content='', additional_kwargs={'tool_calls': [{'id': 'call_1WiPJ53MIPW5giNM1OyCD9w5', 'function': {'arguments': '{\"location\":\"Munich\"}', 'name': 'get_weather'}, 'type': 'function'}], 'refusal': None}, response_metadata={'token_usage': {'completion_tokens': 16, 'prompt_tokens': 108, 'total_tokens': 124, 'completion_tokens_details': {'accepted_prediction_tokens': 0, 'audio_tokens': 0, 'reasoning_tokens': 0, 'rejected_prediction_tokens': 0}, 'prompt_tokens_details': {'audio_tokens': 0, 'cached_tokens': 0}}, 'model_name': 'gpt-4o-mini-2024-07-18', 'system_fingerprint': 'fp_bd83329f63', 'finish_reason': 'tool_calls', 'logprobs': None}, id='run-41ad5323-01ab-4f73-b668-ae81c2bd4ba3-0', tool_calls=[{'name': 'get_weather', 'args': {'location': 'Munich'}, 'id': 'call_1WiPJ53MIPW5giNM1OyCD9w5', 'type': 'tool_call'}], usage_metadata={'input_tokens': 108, 'output_tokens': 16, 'total_tokens': 124, 'input_token_details': {'audio': 0, 'cache_read': 0}, 'output_token_details': {'audio': 0, 'reasoning': 0}}),\n",
       "  ToolMessage(content=\"It's 15 degrees Celsius and cloudy.\", name='get_weather', id='aba7bf57-8191-4b6f-a625-bb95bc90c9a9', tool_call_id='call_1WiPJ53MIPW5giNM1OyCD9w5'),\n",
       "  AIMessage(content='The current weather in Munich is 15 degrees Celsius and cloudy.', additional_kwargs={'refusal': None}, response_metadata={'token_usage': {'completion_tokens': 15, 'prompt_tokens': 139, 'total_tokens': 154, 'completion_tokens_details': {'accepted_prediction_tokens': 0, 'audio_tokens': 0, 'reasoning_tokens': 0, 'rejected_prediction_tokens': 0}, 'prompt_tokens_details': {'audio_tokens': 0, 'cached_tokens': 0}}, 'model_name': 'gpt-4o-mini-2024-07-18', 'system_fingerprint': 'fp_bd83329f63', 'finish_reason': 'stop', 'logprobs': None}, id='run-30afac7a-0f70-4f0c-ac42-a1ef3b8cda05-0', usage_metadata={'input_tokens': 139, 'output_tokens': 15, 'total_tokens': 154, 'input_token_details': {'audio': 0, 'cache_read': 0}, 'output_token_details': {'audio': 0, 'reasoning': 0}})]}"
      ]
     },
     "execution_count": 28,
     "metadata": {},
     "output_type": "execute_result"
    }
   ],
   "source": [
    "graph.invoke(None, config=config)"
   ]
  },
  {
   "cell_type": "markdown",
   "metadata": {},
   "source": [
    "### Wait for user input"
   ]
  },
  {
   "cell_type": "code",
   "execution_count": 29,
   "metadata": {},
   "outputs": [],
   "source": [
    "from typing import Annotated\n",
    "\n",
    "from langchain_openai import ChatOpenAI\n",
    "from typing_extensions import TypedDict\n",
    "\n",
    "from langgraph.graph import StateGraph\n",
    "from langgraph.graph.message import add_messages\n",
    "from langgraph.prebuilt import ToolNode, tools_condition\n",
    "\n",
    "\n",
    "class State(TypedDict):\n",
    "    messages: Annotated[list, add_messages]\n",
    "    ask_human: bool"
   ]
  },
  {
   "cell_type": "code",
   "execution_count": 30,
   "metadata": {},
   "outputs": [],
   "source": [
    "from langchain_core.tools import tool\n",
    "\n",
    "\n",
    "@tool\n",
    "def request_assistance():\n",
    "    \"\"\"Escalate the conversation to an expert. Use this if you are unable to assist directly or if the user requires support beyond your permissions.\n",
    "\n",
    "    To use this function, relay the user's 'request' so the expert can provide the right guidance.\n",
    "    \"\"\"\n",
    "    return \"\""
   ]
  },
  {
   "cell_type": "code",
   "execution_count": 31,
   "metadata": {},
   "outputs": [],
   "source": [
    "tools = [get_weather]\n",
    "llm = ChatOpenAI(model=\"gpt-4o-mini\")\n",
    "llm_with_tools = llm.bind_tools(tools + [request_assistance])\n",
    "\n",
    "\n",
    "def chatbot(state: State):\n",
    "    response = llm_with_tools.invoke(state[\"messages\"])\n",
    "    ask_human = False\n",
    "    if response.tool_calls and response.tool_calls[0][\"name\"] == \"request_assistance\":\n",
    "        ask_human = True\n",
    "    return {\"messages\": [response], \"ask_human\": ask_human}"
   ]
  },
  {
   "cell_type": "code",
   "execution_count": 34,
   "metadata": {},
   "outputs": [
    {
     "data": {
      "text/plain": [
       "<langgraph.graph.state.StateGraph at 0x15cbd615f50>"
      ]
     },
     "execution_count": 34,
     "metadata": {},
     "output_type": "execute_result"
    }
   ],
   "source": [
    "graph_builder = StateGraph(State)\n",
    "\n",
    "graph_builder.add_node(\"chatbot\", chatbot)\n",
    "graph_builder.add_node(\"tools\", ToolNode(tools=tools))"
   ]
  },
  {
   "cell_type": "code",
   "execution_count": 36,
   "metadata": {},
   "outputs": [
    {
     "data": {
      "text/plain": [
       "<langgraph.graph.state.StateGraph at 0x15cbd615f50>"
      ]
     },
     "execution_count": 36,
     "metadata": {},
     "output_type": "execute_result"
    }
   ],
   "source": [
    "from langchain_core.messages import AIMessage, ToolMessage\n",
    "\n",
    "\n",
    "def create_response(response: str, ai_message: AIMessage):\n",
    "    return ToolMessage(\n",
    "        content=response,\n",
    "        tool_call_id=ai_message.tool_calls[0][\"id\"],\n",
    "    )\n",
    "\n",
    "\n",
    "def human_node(state: State):\n",
    "    new_messages = []\n",
    "    if not isinstance(state[\"messages\"][-1], ToolMessage):\n",
    "        new_messages.append(\n",
    "            create_response(\n",
    "                \"Plan your trip 3 months before and you don´t carry a Real Madrid shirt with you\",\n",
    "                state[\"messages\"][-1],\n",
    "            )\n",
    "        )\n",
    "    return {\n",
    "        \"messages\": new_messages,\n",
    "        \"ask_human\": False,\n",
    "    }\n",
    "\n",
    "\n",
    "graph_builder.add_node(\"human\", human_node)"
   ]
  },
  {
   "cell_type": "code",
   "execution_count": 37,
   "metadata": {},
   "outputs": [
    {
     "data": {
      "text/plain": [
       "<langgraph.graph.state.StateGraph at 0x15cbd615f50>"
      ]
     },
     "execution_count": 37,
     "metadata": {},
     "output_type": "execute_result"
    }
   ],
   "source": [
    "def select_next_node(state: State):\n",
    "    if state[\"ask_human\"]:\n",
    "        return \"human\"\n",
    "    return tools_condition(state)\n",
    "\n",
    "\n",
    "graph_builder.add_conditional_edges(\n",
    "    \"chatbot\",\n",
    "    select_next_node,\n",
    "    {\"human\": \"human\", \"tools\": \"tools\", \"__end__\": \"__end__\"},\n",
    ")"
   ]
  },
  {
   "cell_type": "code",
   "execution_count": 38,
   "metadata": {},
   "outputs": [],
   "source": [
    "graph_builder.add_edge(\"tools\", \"chatbot\")\n",
    "graph_builder.add_edge(\"human\", \"chatbot\")\n",
    "graph_builder.set_entry_point(\"chatbot\")\n",
    "checkpointer = MemorySaver()\n",
    "graph = graph_builder.compile(\n",
    "    checkpointer=checkpointer,\n",
    "    interrupt_before=[\"human\"],\n",
    ")"
   ]
  },
  {
   "cell_type": "code",
   "execution_count": 39,
   "metadata": {},
   "outputs": [
    {
     "data": {
      "image/png": "[encoded data removed]",
      "text/plain": [
       "<IPython.core.display.Image object>"
      ]
     },
     "metadata": {},
     "output_type": "display_data"
    }
   ],
   "source": [
    "from IPython.display import Image, display\n",
    "\n",
    "try:\n",
    "    display(Image(graph.get_graph().draw_mermaid_png()))\n",
    "except Exception:\n",
    "    pass"
   ]
  },
  {
   "cell_type": "code",
   "execution_count": 40,
   "metadata": {},
   "outputs": [
    {
     "data": {
      "text/plain": [
       "{'messages': [HumanMessage(content='I need some expert advice on how to plan a trip to barcelona', additional_kwargs={}, response_metadata={}, id='3439075c-b746-469e-8574-c9aed18ccef7'),\n",
       "  AIMessage(content='', additional_kwargs={'tool_calls': [{'id': 'call_QGs0jUU3aBMi8flb7MBOqsmW', 'function': {'arguments': '{}', 'name': 'request_assistance'}, 'type': 'function'}], 'refusal': None}, response_metadata={'token_usage': {'completion_tokens': 12, 'prompt_tokens': 115, 'total_tokens': 127, 'completion_tokens_details': {'accepted_prediction_tokens': 0, 'audio_tokens': 0, 'reasoning_tokens': 0, 'rejected_prediction_tokens': 0}, 'prompt_tokens_details': {'audio_tokens': 0, 'cached_tokens': 0}}, 'model_name': 'gpt-4o-mini-2024-07-18', 'system_fingerprint': 'fp_72ed7ab54c', 'finish_reason': 'tool_calls', 'logprobs': None}, id='run-1785a490-d608-44f9-b4c6-be4fc3ccfd0f-0', tool_calls=[{'name': 'request_assistance', 'args': {}, 'id': 'call_QGs0jUU3aBMi8flb7MBOqsmW', 'type': 'tool_call'}], usage_metadata={'input_tokens': 115, 'output_tokens': 12, 'total_tokens': 127, 'input_token_details': {'audio': 0, 'cache_read': 0}, 'output_token_details': {'audio': 0, 'reasoning': 0}})],\n",
       " 'ask_human': True}"
      ]
     },
     "execution_count": 40,
     "metadata": {},
     "output_type": "execute_result"
    }
   ],
   "source": [
    "config = {\"configurable\": {\"thread_id\": \"50\"}}\n",
    "input_message = HumanMessage(\n",
    "    content=\"I need some expert advice on how to plan a trip to barcelona\"\n",
    ")\n",
    "\n",
    "graph.invoke({\"messages\": input_message}, config=config)"
   ]
  },
  {
   "cell_type": "code",
   "execution_count": 41,
   "metadata": {},
   "outputs": [
    {
     "data": {
      "text/plain": [
       "{'messages': [HumanMessage(content='I need some expert advice on how to plan a trip to barcelona', additional_kwargs={}, response_metadata={}, id='3439075c-b746-469e-8574-c9aed18ccef7'),\n",
       "  AIMessage(content='', additional_kwargs={'tool_calls': [{'id': 'call_QGs0jUU3aBMi8flb7MBOqsmW', 'function': {'arguments': '{}', 'name': 'request_assistance'}, 'type': 'function'}], 'refusal': None}, response_metadata={'token_usage': {'completion_tokens': 12, 'prompt_tokens': 115, 'total_tokens': 127, 'completion_tokens_details': {'accepted_prediction_tokens': 0, 'audio_tokens': 0, 'reasoning_tokens': 0, 'rejected_prediction_tokens': 0}, 'prompt_tokens_details': {'audio_tokens': 0, 'cached_tokens': 0}}, 'model_name': 'gpt-4o-mini-2024-07-18', 'system_fingerprint': 'fp_72ed7ab54c', 'finish_reason': 'tool_calls', 'logprobs': None}, id='run-1785a490-d608-44f9-b4c6-be4fc3ccfd0f-0', tool_calls=[{'name': 'request_assistance', 'args': {}, 'id': 'call_QGs0jUU3aBMi8flb7MBOqsmW', 'type': 'tool_call'}], usage_metadata={'input_tokens': 115, 'output_tokens': 12, 'total_tokens': 127, 'input_token_details': {'audio': 0, 'cache_read': 0}, 'output_token_details': {'audio': 0, 'reasoning': 0}}),\n",
       "  ToolMessage(content='Plan your trip 3 months before and you don´t carry a Real Madrid shirt with you', id='26cde8b6-7279-4ff5-a5de-3d2ca82271e2', tool_call_id='call_QGs0jUU3aBMi8flb7MBOqsmW'),\n",
       "  AIMessage(content='When planning your trip to Barcelona, here are some tips to consider:\\n\\n1. **Timing**: Aim to plan your trip at least 3 months in advance, especially if you want to secure accommodations and tickets for popular attractions.\\n\\n2. **Accommodation**: Choose a central location to stay, such as the Gothic Quarter or Eixample, to make it easier to explore the city.\\n\\n3. **Attractions**: Make a list of must-see attractions like the Sagrada Familia, Park Güell, and Casa Batlló. Consider purchasing tickets in advance to avoid long lines.\\n\\n4. **Transportation**: Familiarize yourself with the public transport system, including the metro and buses. A T-10 ticket can be a cost-effective option for multiple rides.\\n\\n5. **Local Cuisine**: Don’t miss out on trying local dishes such as tapas, paella, and churros. Explore local markets like La Boqueria for fresh food options.\\n\\n6. **Cultural Etiquette**: Be mindful of local customs and etiquette. For instance, avoid wearing rival football team shirts, as local pride runs deep.\\n\\n7. **Safety**: Like any major city, be aware of your surroundings and keep an eye on your belongings to avoid pickpocketing.\\n\\n8. **Weather**: Check the weather forecast before your trip to pack accordingly.\\n\\nIf you have any specific questions or need more information on a particular aspect of your trip, feel free to ask!', additional_kwargs={'refusal': None}, response_metadata={'token_usage': {'completion_tokens': 298, 'prompt_tokens': 153, 'total_tokens': 451, 'completion_tokens_details': {'accepted_prediction_tokens': 0, 'audio_tokens': 0, 'reasoning_tokens': 0, 'rejected_prediction_tokens': 0}, 'prompt_tokens_details': {'audio_tokens': 0, 'cached_tokens': 0}}, 'model_name': 'gpt-4o-mini-2024-07-18', 'system_fingerprint': 'fp_bd83329f63', 'finish_reason': 'stop', 'logprobs': None}, id='run-945dcdb0-a4e3-4e7e-8322-cdae54bc7e6c-0', usage_metadata={'input_tokens': 153, 'output_tokens': 298, 'total_tokens': 451, 'input_token_details': {'audio': 0, 'cache_read': 0}, 'output_token_details': {'audio': 0, 'reasoning': 0}})],\n",
       " 'ask_human': False}"
      ]
     },
     "execution_count": 41,
     "metadata": {},
     "output_type": "execute_result"
    }
   ],
   "source": [
    "graph.invoke(None, config=config)"
   ]
  },
  {
   "cell_type": "markdown",
   "metadata": {},
   "source": [
    "### New way Human in the loop - Interrupt + Command"
   ]
  },
  {
   "cell_type": "code",
   "execution_count": 42,
   "metadata": {},
   "outputs": [],
   "source": [
    "from typing import TypedDict\n",
    "from typing_extensions import Literal\n",
    "from langgraph.graph import END, StateGraph\n",
    "from langgraph.types import Command\n",
    "\n",
    "\n",
    "class InputState(TypedDict):\n",
    "    string_value: str\n",
    "    numeric_value: int\n",
    "\n",
    "\n",
    "def modify_state(input_state: InputState) -> InputState:\n",
    "    input_state[\"string_value\"] += \"a\"\n",
    "    input_state[\"numeric_value\"] += 1\n",
    "    return input_state\n",
    "\n",
    "\n",
    "def branch_a(state: InputState) -> Command[Literal[\"branch_b\"]]:\n",
    "    print(f\"branch_a: Current state: {state}\")\n",
    "    new_state = modify_state(state)\n",
    "    print(f\"branch_a: Updated state: {new_state}\")\n",
    "    return Command(\n",
    "        goto=\"branch_b\",\n",
    "        update=new_state,\n",
    "    )\n",
    "\n",
    "\n",
    "def branch_b(state: InputState) -> Command[Literal[\"branch_c\"]]:\n",
    "    print(f\"branch_b: Current state: {state}\")\n",
    "    new_state = modify_state(state)\n",
    "    print(f\"branch_b: Updated state: {new_state}\")\n",
    "    return Command(\n",
    "        goto=\"branch_c\",\n",
    "        update=new_state,\n",
    "    )\n",
    "\n",
    "\n",
    "def branch_c(state: InputState) -> Command[Literal[END]]:\n",
    "    print(f\"branch_c: Current state: {state}\")\n",
    "    new_state = modify_state(state)\n",
    "    print(f\"branch_c: Updated state: {new_state}\")\n",
    "    return Command(goto=END, update=new_state)"
   ]
  },
  {
   "cell_type": "code",
   "execution_count": 43,
   "metadata": {},
   "outputs": [],
   "source": [
    "graph = StateGraph(InputState)\n",
    "\n",
    "graph.add_node(\"branch_a\", branch_a)\n",
    "graph.add_node(\"branch_b\", branch_b)\n",
    "graph.add_node(\"branch_c\", branch_c)\n",
    "graph.set_entry_point(\"branch_a\")\n",
    "\n",
    "runnable = graph.compile()"
   ]
  },
  {
   "cell_type": "code",
   "execution_count": 44,
   "metadata": {},
   "outputs": [
    {
     "data": {
      "image/png": "[encoded data removed]",
      "text/plain": [
       "<IPython.core.display.Image object>"
      ]
     },
     "metadata": {},
     "output_type": "display_data"
    }
   ],
   "source": [
    "from IPython.display import Image, display\n",
    "\n",
    "try:\n",
    "    display(Image(runnable.get_graph().draw_mermaid_png()))\n",
    "except Exception:\n",
    "    pass"
   ]
  },
  {
   "cell_type": "code",
   "execution_count": 45,
   "metadata": {},
   "outputs": [
    {
     "name": "stdout",
     "output_type": "stream",
     "text": [
      "branch_a: Current state: {'string_value': 'Hello', 'numeric_value': 0}\n",
      "branch_a: Updated state: {'string_value': 'Helloa', 'numeric_value': 1}\n",
      "branch_b: Current state: {'string_value': 'Helloa', 'numeric_value': 1}\n",
      "branch_b: Updated state: {'string_value': 'Helloaa', 'numeric_value': 2}\n",
      "branch_c: Current state: {'string_value': 'Helloaa', 'numeric_value': 2}\n",
      "branch_c: Updated state: {'string_value': 'Helloaaa', 'numeric_value': 3}\n",
      "Final state: {'string_value': 'Helloaaa', 'numeric_value': 3}\n"
     ]
    }
   ],
   "source": [
    "initial_state = {\"string_value\": \"Hello\", \"numeric_value\": 0}\n",
    "final_state = runnable.invoke(initial_state)\n",
    "\n",
    "print(\"Final state:\", final_state)"
   ]
  },
  {
   "cell_type": "code",
   "execution_count": 46,
   "metadata": {},
   "outputs": [],
   "source": [
    "from typing_extensions import Literal\n",
    "from langgraph.graph import StateGraph, END, MessagesState\n",
    "from langgraph.checkpoint.memory import MemorySaver\n",
    "from langgraph.types import Command, interrupt\n",
    "from langchain_openai import ChatOpenAI\n",
    "from langchain_core.tools import tool\n",
    "from IPython.display import Image, display\n",
    "\n",
    "\n",
    "@tool\n",
    "def weather_search(city: str):\n",
    "    \"\"\"Search for the weather in a specific city\"\"\"\n",
    "    print(\"----\")\n",
    "    print(f\"Searching for: {city}\")\n",
    "    print(\"----\")\n",
    "    return \"Sunny!\"\n",
    "\n",
    "\n",
    "model = ChatOpenAI(model=\"gpt-4o-mini\").bind_tools([weather_search])\n",
    "\n",
    "\n",
    "def call_llm(state):\n",
    "    return {\"messages\": [model.invoke(state[\"messages\"])]}\n",
    "\n",
    "\n",
    "def human_review_node(state) -> Command[Literal[\"call_llm\", \"run_tool\"]]:\n",
    "    last_message = state[\"messages\"][-1]\n",
    "    tool_call = last_message.tool_calls[-1]\n",
    "\n",
    "    human_review = interrupt(\n",
    "        {\n",
    "            \"question\": \"Is this correct?\",\n",
    "            \"tool_call\": tool_call,\n",
    "        }\n",
    "    )\n",
    "    print(\"Human review values:\", human_review)\n",
    "\n",
    "    review_action = human_review[\"action\"]\n",
    "    review_data = human_review.get(\"data\")\n",
    "\n",
    "    if review_action == \"continue\":\n",
    "        return Command(goto=\"run_tool\")\n",
    "\n",
    "    elif review_action == \"update\":\n",
    "        updated_message = {\n",
    "            \"role\": \"ai\",\n",
    "            \"content\": last_message.content,\n",
    "            \"tool_calls\": [\n",
    "                {\n",
    "                    \"id\": tool_call[\"id\"],\n",
    "                    \"name\": tool_call[\"name\"],\n",
    "                    \"args\": review_data,\n",
    "                }\n",
    "            ],\n",
    "            \"id\": last_message.id,\n",
    "        }\n",
    "        return Command(goto=\"run_tool\", update={\"messages\": [updated_message]})\n",
    "\n",
    "\n",
    "def route_after_llm(state) -> Literal[END, \"human_review_node\"]:\n",
    "    if len(state[\"messages\"][-1].tool_calls) == 0:\n",
    "        return END\n",
    "    else:\n",
    "        return \"human_review_node\"\n",
    "\n",
    "\n",
    "builder = StateGraph(MessagesState)\n",
    "builder.add_node(\"call_llm\", call_llm)\n",
    "builder.add_node(\"run_tool\", ToolNode(tools=[weather_search]))\n",
    "builder.add_node(\"human_review_node\", human_review_node)\n",
    "builder.add_conditional_edges(\"call_llm\", route_after_llm)\n",
    "builder.add_edge(\"run_tool\", \"call_llm\")\n",
    "builder.set_entry_point(\"call_llm\")\n",
    "\n",
    "memory = MemorySaver()\n",
    "\n",
    "graph = builder.compile(checkpointer=memory)"
   ]
  },
  {
   "cell_type": "code",
   "execution_count": 47,
   "metadata": {},
   "outputs": [
    {
     "data": {
      "image/png": "[encoded data removed]",
      "text/plain": [
       "<IPython.core.display.Image object>"
      ]
     },
     "metadata": {},
     "output_type": "display_data"
    }
   ],
   "source": [
    "display(Image(graph.get_graph().draw_mermaid_png()))"
   ]
  },
  {
   "cell_type": "code",
   "execution_count": 48,
   "metadata": {},
   "outputs": [
    {
     "data": {
      "text/plain": [
       "[{'call_llm': {'messages': [AIMessage(content='', additional_kwargs={'tool_calls': [{'id': 'call_H1dhuzZaZYBuviJjyBGRn03Z', 'function': {'arguments': '{\"city\":\"Munic\"}', 'name': 'weather_search'}, 'type': 'function'}], 'refusal': None}, response_metadata={'token_usage': {'completion_tokens': 16, 'prompt_tokens': 54, 'total_tokens': 70, 'completion_tokens_details': {'accepted_prediction_tokens': 0, 'audio_tokens': 0, 'reasoning_tokens': 0, 'rejected_prediction_tokens': 0}, 'prompt_tokens_details': {'audio_tokens': 0, 'cached_tokens': 0}}, 'model_name': 'gpt-4o-mini-2024-07-18', 'system_fingerprint': 'fp_bd83329f63', 'finish_reason': 'tool_calls', 'logprobs': None}, id='run-f849d2e2-1c11-41a8-85d7-547a2714c649-0', tool_calls=[{'name': 'weather_search', 'args': {'city': 'Munic'}, 'id': 'call_H1dhuzZaZYBuviJjyBGRn03Z', 'type': 'tool_call'}], usage_metadata={'input_tokens': 54, 'output_tokens': 16, 'total_tokens': 70, 'input_token_details': {'audio': 0, 'cache_read': 0}, 'output_token_details': {'audio': 0, 'reasoning': 0}})]}},\n",
       " {'__interrupt__': (Interrupt(value={'question': 'Is this correct?', 'tool_call': {'name': 'weather_search', 'args': {'city': 'Munic'}, 'id': 'call_H1dhuzZaZYBuviJjyBGRn03Z', 'type': 'tool_call'}}, resumable=True, ns=['human_review_node:dc40d752-aea0-0b6f-b3d1-794e82ad1c8b'], when='during'),)}]"
      ]
     },
     "execution_count": 48,
     "metadata": {},
     "output_type": "execute_result"
    }
   ],
   "source": [
    "initial_input = {\"messages\": [HumanMessage(content=\"How is the weather in Munic?\")]}\n",
    "config = {\"configurable\": {\"thread_id\": \"5\"}}\n",
    "\n",
    "first_result = graph.invoke(initial_input, config=config, stream_mode=\"updates\")\n",
    "first_result"
   ]
  },
  {
   "cell_type": "code",
   "execution_count": 49,
   "metadata": {},
   "outputs": [
    {
     "name": "stdout",
     "output_type": "stream",
     "text": [
      "('human_review_node',)\n"
     ]
    }
   ],
   "source": [
    "print(graph.get_state(config).next)"
   ]
  },
  {
   "cell_type": "code",
   "execution_count": 50,
   "metadata": {},
   "outputs": [
    {
     "name": "stdout",
     "output_type": "stream",
     "text": [
      "Human review values: {'action': 'continue'}\n",
      "----\n",
      "Searching for: Munic\n",
      "----\n"
     ]
    },
    {
     "data": {
      "text/plain": [
       "{'messages': [HumanMessage(content='How is the weather in Munic?', additional_kwargs={}, response_metadata={}, id='8f83c36d-f552-405d-b0b1-e9dae504a79a'),\n",
       "  AIMessage(content='', additional_kwargs={'tool_calls': [{'id': 'call_H1dhuzZaZYBuviJjyBGRn03Z', 'function': {'arguments': '{\"city\":\"Munic\"}', 'name': 'weather_search'}, 'type': 'function'}], 'refusal': None}, response_metadata={'token_usage': {'completion_tokens': 16, 'prompt_tokens': 54, 'total_tokens': 70, 'completion_tokens_details': {'accepted_prediction_tokens': 0, 'audio_tokens': 0, 'reasoning_tokens': 0, 'rejected_prediction_tokens': 0}, 'prompt_tokens_details': {'audio_tokens': 0, 'cached_tokens': 0}}, 'model_name': 'gpt-4o-mini-2024-07-18', 'system_fingerprint': 'fp_bd83329f63', 'finish_reason': 'tool_calls', 'logprobs': None}, id='run-f849d2e2-1c11-41a8-85d7-547a2714c649-0', tool_calls=[{'name': 'weather_search', 'args': {'city': 'Munic'}, 'id': 'call_H1dhuzZaZYBuviJjyBGRn03Z', 'type': 'tool_call'}], usage_metadata={'input_tokens': 54, 'output_tokens': 16, 'total_tokens': 70, 'input_token_details': {'audio': 0, 'cache_read': 0}, 'output_token_details': {'audio': 0, 'reasoning': 0}}),\n",
       "  ToolMessage(content='Sunny!', name='weather_search', id='96a75c0f-298a-44a0-97de-4105236ec2ef', tool_call_id='call_H1dhuzZaZYBuviJjyBGRn03Z'),\n",
       "  AIMessage(content='The weather in Munich is sunny!', additional_kwargs={'refusal': None}, response_metadata={'token_usage': {'completion_tokens': 9, 'prompt_tokens': 79, 'total_tokens': 88, 'completion_tokens_details': {'accepted_prediction_tokens': 0, 'audio_tokens': 0, 'reasoning_tokens': 0, 'rejected_prediction_tokens': 0}, 'prompt_tokens_details': {'audio_tokens': 0, 'cached_tokens': 0}}, 'model_name': 'gpt-4o-mini-2024-07-18', 'system_fingerprint': 'fp_72ed7ab54c', 'finish_reason': 'stop', 'logprobs': None}, id='run-7424fa60-b0a1-4775-8083-eba6a5aa1b41-0', usage_metadata={'input_tokens': 79, 'output_tokens': 9, 'total_tokens': 88, 'input_token_details': {'audio': 0, 'cache_read': 0}, 'output_token_details': {'audio': 0, 'reasoning': 0}})]}"
      ]
     },
     "execution_count": 50,
     "metadata": {},
     "output_type": "execute_result"
    }
   ],
   "source": [
    "graph.invoke(Command(resume={\"action\": \"continue\"}), config=config)"
   ]
  },
  {
   "cell_type": "code",
   "execution_count": 51,
   "metadata": {},
   "outputs": [
    {
     "data": {
      "text/plain": [
       "[{'call_llm': {'messages': [AIMessage(content='', additional_kwargs={'tool_calls': [{'id': 'call_HdBwNe0Q3r7xJTctbfTUbsho', 'function': {'arguments': '{\"city\":\"Munich\"}', 'name': 'weather_search'}, 'type': 'function'}], 'refusal': None}, response_metadata={'token_usage': {'completion_tokens': 16, 'prompt_tokens': 54, 'total_tokens': 70, 'completion_tokens_details': {'accepted_prediction_tokens': 0, 'audio_tokens': 0, 'reasoning_tokens': 0, 'rejected_prediction_tokens': 0}, 'prompt_tokens_details': {'audio_tokens': 0, 'cached_tokens': 0}}, 'model_name': 'gpt-4o-mini-2024-07-18', 'system_fingerprint': 'fp_bd83329f63', 'finish_reason': 'tool_calls', 'logprobs': None}, id='run-b755a486-2b1c-4855-9449-aeee04eb5715-0', tool_calls=[{'name': 'weather_search', 'args': {'city': 'Munich'}, 'id': 'call_HdBwNe0Q3r7xJTctbfTUbsho', 'type': 'tool_call'}], usage_metadata={'input_tokens': 54, 'output_tokens': 16, 'total_tokens': 70, 'input_token_details': {'audio': 0, 'cache_read': 0}, 'output_token_details': {'audio': 0, 'reasoning': 0}})]}},\n",
       " {'__interrupt__': (Interrupt(value={'question': 'Is this correct?', 'tool_call': {'name': 'weather_search', 'args': {'city': 'Munich'}, 'id': 'call_HdBwNe0Q3r7xJTctbfTUbsho', 'type': 'tool_call'}}, resumable=True, ns=['human_review_node:a05d370d-fb67-1c87-421e-a1be9c97f341'], when='during'),)}]"
      ]
     },
     "execution_count": 51,
     "metadata": {},
     "output_type": "execute_result"
    }
   ],
   "source": [
    "config = {\"configurable\": {\"thread_id\": \"6\"}}\n",
    "\n",
    "graph.invoke(initial_input, config=config, stream_mode=\"updates\")"
   ]
  },
  {
   "cell_type": "code",
   "execution_count": 52,
   "metadata": {},
   "outputs": [
    {
     "name": "stdout",
     "output_type": "stream",
     "text": [
      "('human_review_node',)\n"
     ]
    }
   ],
   "source": [
    "print(graph.get_state(config).next)"
   ]
  },
  {
   "cell_type": "code",
   "execution_count": 53,
   "metadata": {},
   "outputs": [
    {
     "name": "stdout",
     "output_type": "stream",
     "text": [
      "Human review values: {'action': 'update', 'data': {'city': 'Munich'}}\n",
      "----\n",
      "Searching for: Munich\n",
      "----\n"
     ]
    },
    {
     "data": {
      "text/plain": [
       "{'messages': [HumanMessage(content='How is the weather in Munic?', additional_kwargs={}, response_metadata={}, id='8f83c36d-f552-405d-b0b1-e9dae504a79a'),\n",
       "  AIMessage(content='', additional_kwargs={}, response_metadata={}, id='run-b755a486-2b1c-4855-9449-aeee04eb5715-0', tool_calls=[{'name': 'weather_search', 'args': {'city': 'Munich'}, 'id': 'call_HdBwNe0Q3r7xJTctbfTUbsho', 'type': 'tool_call'}]),\n",
       "  ToolMessage(content='Sunny!', name='weather_search', id='3092b2f6-3370-4bdf-a587-3520de6dc5a8', tool_call_id='call_HdBwNe0Q3r7xJTctbfTUbsho'),\n",
       "  AIMessage(content='The weather in Munich is sunny!', additional_kwargs={'refusal': None}, response_metadata={'token_usage': {'completion_tokens': 9, 'prompt_tokens': 79, 'total_tokens': 88, 'completion_tokens_details': {'accepted_prediction_tokens': 0, 'audio_tokens': 0, 'reasoning_tokens': 0, 'rejected_prediction_tokens': 0}, 'prompt_tokens_details': {'audio_tokens': 0, 'cached_tokens': 0}}, 'model_name': 'gpt-4o-mini-2024-07-18', 'system_fingerprint': 'fp_72ed7ab54c', 'finish_reason': 'stop', 'logprobs': None}, id='run-98275db2-8ff0-4d65-95b4-769f8a9b60ef-0', usage_metadata={'input_tokens': 79, 'output_tokens': 9, 'total_tokens': 88, 'input_token_details': {'audio': 0, 'cache_read': 0}, 'output_token_details': {'audio': 0, 'reasoning': 0}})]}"
      ]
     },
     "execution_count": 53,
     "metadata": {},
     "output_type": "execute_result"
    }
   ],
   "source": [
    "graph.invoke(Command(resume={\"action\": \"update\", \"data\": {\"city\": \"Munich\"}}), config)"
   ]
  }
 ],
 "metadata": {
  "kernelspec": {
   "display_name": ".venv",
   "language": "python",
   "name": "python3"
  },
  "language_info": {
   "codemirror_mode": {
    "name": "ipython",
    "version": 3
   },
   "file_extension": ".py",
   "mimetype": "text/x-python",
   "name": "python",
   "nbconvert_exporter": "python",
   "pygments_lexer": "ipython3",
   "version": "3.11.4"
  }
 },
 "nbformat": 4,
 "nbformat_minor": 2
}
